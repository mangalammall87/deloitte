{
  "nbformat": 4,
  "nbformat_minor": 0,
  "metadata": {
    "colab": {
      "provenance": [],
      "authorship_tag": "ABX9TyNjDMdn3hR+grEkiGE+Wjke",
      "include_colab_link": true
    },
    "kernelspec": {
      "name": "python3",
      "display_name": "Python 3"
    },
    "language_info": {
      "name": "python"
    }
  },
  "cells": [
    {
      "cell_type": "markdown",
      "metadata": {
        "id": "view-in-github",
        "colab_type": "text"
      },
      "source": [
        "<a href=\"https://colab.research.google.com/github/mangalammall87/deloitte/blob/main/Untitled.ipynb\" target=\"_parent\"><img src=\"https://colab.research.google.com/assets/colab-badge.svg\" alt=\"Open In Colab\"/></a>"
      ]
    },
    {
      "cell_type": "code",
      "execution_count": 1,
      "metadata": {
        "colab": {
          "base_uri": "https://localhost:8080/"
        },
        "id": "4sTv4YOsH6z6",
        "outputId": "e5206f0f-8df0-4936-c086-0cbd796d9641"
      },
      "outputs": [
        {
          "output_type": "stream",
          "name": "stdout",
          "text": [
            "  Transaction_ID Customer_Name Product_ID  Quantity  Sale_Amount Purchase_Date\n",
            "0          T1001      John Doe       P102         1           50    12-05-2023\n",
            "1          T1002           NaN       P101         2          100    05-12-2023\n",
            "2          T1003    Jane Smith       P103         1          -50    12-05-2023\n",
            "3          T1004      John Doe       P101         1        20000    13-05-2023\n",
            "4          T1002           NaN       P101         2          100    05-12-2023\n"
          ]
        }
      ],
      "source": [
        "import pandas as pd\n",
        "\n",
        "df = pd.read_csv('shop_data.csv')\n",
        "\n",
        "print(df.head())"
      ]
    },
    {
      "cell_type": "code",
      "source": [
        "# missing values\n",
        "print(df.isnull().sum())\n",
        "\n",
        "# 'Customer_Name' is missing\n",
        "df = df.dropna(subset=['Customer_Name'])\n",
        "\n",
        "#  'Sale_Amount' and 'Purchase_Date' is missing\n",
        "df = df.dropna(subset=['Sale_Amount', 'Purchase_Date'])\n",
        "\n",
        "# fill missing non-critical columns with 'Unknown'\n",
        "df['Customer_Name'].fillna('Unknown', inplace=True)\n",
        "\n",
        "# Verify if missing values are handled\n",
        "print(df.isnull().sum())\n"
      ],
      "metadata": {
        "colab": {
          "base_uri": "https://localhost:8080/"
        },
        "id": "9z_FSQUuICzn",
        "outputId": "fde03352-0f35-4a93-f0f0-b23be93dac79"
      },
      "execution_count": 2,
      "outputs": [
        {
          "output_type": "stream",
          "name": "stdout",
          "text": [
            "Transaction_ID    0\n",
            "Customer_Name     2\n",
            "Product_ID        0\n",
            "Quantity          0\n",
            "Sale_Amount       0\n",
            "Purchase_Date     0\n",
            "dtype: int64\n",
            "Transaction_ID    0\n",
            "Customer_Name     0\n",
            "Product_ID        0\n",
            "Quantity          0\n",
            "Sale_Amount       0\n",
            "Purchase_Date     0\n",
            "dtype: int64\n"
          ]
        }
      ]
    },
    {
      "cell_type": "code",
      "source": [
        "# duplicates based on 'Transaction_ID'\n",
        "df = df.drop_duplicates(subset=['Transaction_ID'])\n",
        "\n",
        "\n",
        "print(f\"Number of rows after removing duplicates: {len(df)}\")\n"
      ],
      "metadata": {
        "colab": {
          "base_uri": "https://localhost:8080/"
        },
        "id": "5cOfBM4gI_nO",
        "outputId": "ee26bb1b-b6dd-4061-ac22-e6740ccd230f"
      },
      "execution_count": 3,
      "outputs": [
        {
          "output_type": "stream",
          "name": "stdout",
          "text": [
            "Number of rows after removing duplicates: 22\n"
          ]
        }
      ]
    },
    {
      "cell_type": "code",
      "source": [
        "# Convert the 'Purchase_Date' column to datetime\n",
        "df['Purchase_Date'] = pd.to_datetime(df['Purchase_Date'], errors='coerce')\n",
        "\n",
        "# Verify the uniform date format and check for any invalid dates (NaT)\n",
        "print(df['Purchase_Date'].head())\n",
        "\n",
        "\n",
        "df = df.dropna(subset=['Purchase_Date'])\n"
      ],
      "metadata": {
        "colab": {
          "base_uri": "https://localhost:8080/"
        },
        "id": "kOOBblVUKRSJ",
        "outputId": "c047301d-c999-4227-af91-901189e701b7"
      },
      "execution_count": 5,
      "outputs": [
        {
          "output_type": "stream",
          "name": "stdout",
          "text": [
            "0   2023-12-05\n",
            "2   2023-12-05\n",
            "3          NaT\n",
            "5          NaT\n",
            "6          NaT\n",
            "Name: Purchase_Date, dtype: datetime64[ns]\n"
          ]
        }
      ]
    },
    {
      "cell_type": "code",
      "source": [
        "# Remove rows where 'Sale_Amount' is negative\n",
        "df = df[df['Sale_Amount'] >= 0]\n",
        "\n",
        "# Flag or remove outliers in 'Sale_Amount', considering values over $10,000 as outliers\n",
        "outlier_threshold = 10000\n",
        "df = df[df['Sale_Amount'] <= outlier_threshold]\n",
        "\n",
        "\n",
        "print(df['Sale_Amount'].describe())\n"
      ],
      "metadata": {
        "colab": {
          "base_uri": "https://localhost:8080/"
        },
        "id": "0cGeqwTUK14n",
        "outputId": "b321da37-2ece-4754-9974-e756aab0d360"
      },
      "execution_count": 6,
      "outputs": [
        {
          "output_type": "stream",
          "name": "stdout",
          "text": [
            "count     1.0\n",
            "mean     50.0\n",
            "std       NaN\n",
            "min      50.0\n",
            "25%      50.0\n",
            "50%      50.0\n",
            "75%      50.0\n",
            "max      50.0\n",
            "Name: Sale_Amount, dtype: float64\n"
          ]
        }
      ]
    },
    {
      "cell_type": "code",
      "source": [
        "import re\n",
        "\n",
        "# Function to validate Product_ID\n",
        "def valid_product_id(product_id):\n",
        "    return bool(re.match(r'^P\\d+$', product_id))\n",
        "\n",
        "#  function to filter out invalid Product_IDs\n",
        "df = df[df['Product_ID'].apply(valid_product_id)]\n",
        "\n",
        "# Verify if invalid Product_IDs are handled\n",
        "print(df['Product_ID'].head())\n"
      ],
      "metadata": {
        "colab": {
          "base_uri": "https://localhost:8080/"
        },
        "id": "1MTWQ33TLJ60",
        "outputId": "d9d87a37-21f4-4b61-d44d-6c52ff1bc7e5"
      },
      "execution_count": 7,
      "outputs": [
        {
          "output_type": "stream",
          "name": "stdout",
          "text": [
            "0    P102\n",
            "Name: Product_ID, dtype: object\n"
          ]
        }
      ]
    },
    {
      "cell_type": "code",
      "source": [
        "# Export the cleaned dataset to a new CSV file\n",
        "df.to_csv('cleaned_shop_data.csv', index=False)\n",
        "\n",
        "\n",
        "print(\"Cleaned data has been exported to 'cleaned_shop_data.csv'\")\n"
      ],
      "metadata": {
        "colab": {
          "base_uri": "https://localhost:8080/"
        },
        "id": "FsKdg-ekLeQH",
        "outputId": "4d62831a-3f3a-496d-d304-0b83d1b67f94"
      },
      "execution_count": 8,
      "outputs": [
        {
          "output_type": "stream",
          "name": "stdout",
          "text": [
            "Cleaned data has been exported to 'cleaned_shop_data.csv'\n"
          ]
        }
      ]
    },
    {
      "cell_type": "code",
      "source": [
        "import pandas as pd\n",
        "\n",
        "df = pd.read_csv('shop_data.csv')\n",
        "\n",
        "print(df.to_string())"
      ],
      "metadata": {
        "colab": {
          "base_uri": "https://localhost:8080/"
        },
        "id": "3DNz5QOtN7ce",
        "outputId": "755442f1-cf89-4281-8a7a-1112a22e2edb"
      },
      "execution_count": 10,
      "outputs": [
        {
          "output_type": "stream",
          "name": "stdout",
          "text": [
            "   Transaction_ID Customer_Name Product_ID  Quantity  Sale_Amount Purchase_Date\n",
            "0           T1001      John Doe       P102         1           50    12-05-2023\n",
            "1           T1002           NaN       P101         2          100    05-12-2023\n",
            "2           T1003    Jane Smith       P103         1          -50    12-05-2023\n",
            "3           T1004      John Doe       P101         1        20000    13-05-2023\n",
            "4           T1002           NaN       P101         2          100    05-12-2023\n",
            "5           T1005  Mary Johnson       P104         1          250    14-05-2023\n",
            "6           T1006   James Allen       P105         3          150    14-05-2023\n",
            "7           T1007    Jane Smith       P103         2          200    15-05-2023\n",
            "8           T1008  Chris Martin       P102         1           50    16-05-2023\n",
            "9           T1009      John Doe       P106         4          400    17-05-2023\n",
            "10          T1010   Linda Green       P107         1          -75    18-05-2023\n",
            "11          T1011  Chris Martin       P108         2        30000    19-05-2023\n",
            "12          T1012    Jane Smith       P103         3          150    20-05-2023\n",
            "13          T1013  Robert Brown       P109         2          200    21-05-2023\n",
            "14          T1014  Mary Johnson       P110         1          100    22-05-2023\n",
            "15          T1015   James Allen       P105         2          100    23-05-2023\n",
            "16          T1016   Linda Green       P107         1           75    24-05-2023\n",
            "17          T1017      John Doe       P111         5          500    25-05-2023\n",
            "18          T1018  Chris Martin       P108         3          450    26-05-2023\n",
            "19          T1019  Robert Brown       P109         1          100    27-05-2023\n",
            "20          T1020  Mary Johnson       P104         2          200    28-05-2023\n",
            "21          T1021   James Allen       P112         2          300    29-05-2023\n",
            "22          T1022   Linda Green       P113         1           75    30-05-2023\n",
            "23          T1023  Robert Brown       P114         1          125    31-05-2023\n"
          ]
        }
      ]
    }
  ]
}